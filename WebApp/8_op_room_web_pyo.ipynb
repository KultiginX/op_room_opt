{
 "cells": [
  {
   "cell_type": "code",
   "execution_count": 351,
   "metadata": {},
   "outputs": [],
   "source": [
    "\n",
    "date='''\"2022-01-21 00:00:00.000000\"'''\n",
    "con = sqlite3.connect('/Users/kultiginbozdemir/Documents/GitHub/op_room_opt/WebApp/test2.db') # change the path\n",
    "import pyomo.environ as pyo #install pyomo\n",
    "# conda install -c conda-forge pyomo\n",
    "# install glpk \n",
    "# conda install -c conda-forge glpk\n",
    "import pandas as pd\n",
    "\n",
    "\n",
    "\n",
    "\n",
    "    \n",
    "class Solve_Problem:\n",
    "    ''' Pass date for the get_ops function. It gets the operations table on that particullar date from the sqlite db.\n",
    "    Convert them and other necessary tables into pandas df. Those dataframes are passed into pyomo as decision variables and contsraints.\n",
    "    Solver solves the problem. If the solution does not exclude any existing operation from the solution, it approves the last application and updates the table in the db.\n",
    "    Otherwise, it returns only a warning that the registration can be done on that particular date. The table is not modified.'''\n",
    "    \n",
    "    def _init_(self, user_entries, departments_info, operation_rooms_info):\n",
    "        pass\n",
    "    def get_ops(self, date,user_entries, departments_info, operation_rooms_info):\n",
    "        \n",
    "        # operations\n",
    "        basket = pd.DataFrame(user_entries, columns=['id','doctor','operation_date','department_name','operation_duration','operation_urgency','operation_room'])\n",
    "        basket.set_index('id')\n",
    "\n",
    "        #departments\n",
    "        dep_df=pd.DataFrame(departments_info,columns=['id','department_name','department_capacity','date'])\n",
    "        dep_df.set_index('id')\n",
    "        dep_df['department_capacity']=dep_df['department_capacity'].astype(int)\n",
    "        \n",
    "        # operation rooms\n",
    "        op_df=pd.DataFrame(operation_rooms_info,columns=['id','room_name','room_capacity','date'])\n",
    "        op_df.set_index('id')\n",
    "        op_df['room_capacity']=op_df['room_capacity'].astype(int)\n",
    "        \n",
    "        # multi-knapsack, integer divisible\n",
    "\n",
    "        mdl = pyo.ConcreteModel()\n",
    "\n",
    "        # make sure id is also index in database user__entries\n",
    "        mdl.invs = pyo.Set(initialize=list(zip(basket.index, basket[\"department_name\"])))\n",
    "        mdl.bins = pyo.Set(initialize=list(op_df.room_name)) ## list of operations room from db\n",
    "        mdl.deps = pyo.Set(initialize=list(dep_df.department_name)) # list of departments from db\n",
    "\n",
    "        # params\n",
    "        mdl.value   = pyo.Param(mdl.invs, initialize= {(i,row[\"department_name\"]):row[\"operation_urgency\"] for i,row in basket.iterrows()} )\n",
    "        mdl.weight  = pyo.Param(mdl.invs, initialize= {(i,row[\"department_name\"]):row[\"operation_duration\"] for i,row in basket.iterrows()})\n",
    "        mdl.bin_cap = pyo.Param(mdl.bins, initialize= {row[\"room_name\"]:row[\"room_capacity\"] for i,row in op_df.iterrows()} )\n",
    "        mdl.dep_cap = pyo.Param(mdl.deps, initialize= {row[\"department_name\"]:row[\"department_capacity\"] for i,row in dep_df.iterrows()}, mutable=True)\n",
    "\n",
    "\n",
    "\n",
    "        # vars\n",
    "        mdl.X = pyo.Var(mdl.invs, mdl.bins, within=pyo.Binary)     # the amount from invoice i in bin j\n",
    "\n",
    "\n",
    "\n",
    "        ### Objective ###\n",
    "\n",
    "        mdl.OBJ = pyo.Objective(expr=sum(mdl.X[i, b]*mdl.value[i] for \n",
    "                                i in mdl.invs for\n",
    "                                b in mdl.bins), sense=pyo.maximize)\n",
    "\n",
    "\n",
    "        ### constraints ###\n",
    "\n",
    "        # don't overstuff bin\n",
    "        def bin_limit(self, b):\n",
    "            return sum(mdl.X[i, b]*mdl.weight[i] for i in mdl.invs) <= mdl.bin_cap[b]\n",
    "        mdl.bin_limit = pyo.Constraint(mdl.bins, rule=bin_limit)\n",
    "\n",
    "        # one_item can be only in a single op room.\n",
    "        def one_item(self, i,d):\n",
    "            return sum(mdl.X[i,d,b] for b in mdl.bins) <=1\n",
    "        mdl.one_item = pyo.Constraint(mdl.invs, rule=one_item)\n",
    "\n",
    "\n",
    "\n",
    "        # department limits\n",
    "\n",
    "        mdl.dep_limits=pyo.ConstraintList()\n",
    "\n",
    "        for d in mdl.deps:\n",
    "            d_list=[]\n",
    "            for i in mdl.X:\n",
    "                if d==i[1]:\n",
    "                    d_list.append(i)    \n",
    "            mdl.dep_limits.add(expr=(sum(mdl.X[i]*mdl.weight[i[:2]] for i in d_list)<=mdl.dep_cap[d])) \n",
    "\n",
    "\n",
    "\n",
    "        # solve it...\n",
    "        solver = pyo.SolverFactory('glpk')\n",
    "        results = solver.solve(mdl)\n",
    "\n",
    "        \n",
    "        # save the output into dictionary\n",
    "        dic=dict()\n",
    "\n",
    "        for i in mdl.X:\n",
    "            if pyo.value(mdl.X[i])==1:\n",
    "                dic[i[0]]=i[2]\n",
    "\n",
    "        \n",
    "        if basket.index.isin(list(dic.keys())).all():\n",
    "            basket['operation_room'] = basket.index.map(dic) \n",
    "            return basket\n",
    "\n",
    "        else:\n",
    "            return('not possible')"
   ]
  },
  {
   "cell_type": "code",
   "execution_count": 352,
   "metadata": {},
   "outputs": [],
   "source": [
    "query = ''.join(['select * FROM user__entries WHERE operation_date==',str(date)])# change name of the table.  save them with date in db. \n",
    "cur=con.cursor()\n",
    "cur.execute(query)\n",
    "user_entries=cur.fetchall()\n",
    "#user_entries"
   ]
  },
  {
   "cell_type": "code",
   "execution_count": 353,
   "metadata": {},
   "outputs": [],
   "source": [
    "query = ''.join(['select * FROM operation_rooms__info WHERE date==',str(date)])# change name of the table.  save them with date in db. \n",
    "cur=con.cursor()\n",
    "cur.execute(query)\n",
    "operation_rooms_info=cur.fetchall()\n",
    "#operation_rooms_info"
   ]
  },
  {
   "cell_type": "code",
   "execution_count": 354,
   "metadata": {},
   "outputs": [],
   "source": [
    "query = ''.join(['select * FROM department__info WHERE date==',str(date)])# change name of the table.  save them with date in db. \n",
    "cur=con.cursor()\n",
    "cur.execute(query)\n",
    "departments_info=cur.fetchall()\n",
    "#departments_info\n"
   ]
  },
  {
   "cell_type": "code",
   "execution_count": 355,
   "metadata": {},
   "outputs": [],
   "source": [
    "a=Solve_Problem()"
   ]
  },
  {
   "cell_type": "code",
   "execution_count": 356,
   "metadata": {},
   "outputs": [],
   "source": [
    "a.user_entries=user_entries\n",
    "a.departments_info=departments_info\n",
    "a.operation_rooms_info=operation_rooms_info"
   ]
  },
  {
   "cell_type": "code",
   "execution_count": 357,
   "metadata": {},
   "outputs": [
    {
     "data": {
      "text/plain": [
       "'not possible'"
      ]
     },
     "execution_count": 357,
     "metadata": {},
     "output_type": "execute_result"
    }
   ],
   "source": [
    "a.get_ops(date,user_entries, departments_info, operation_rooms_info)"
   ]
  },
  {
   "cell_type": "code",
   "execution_count": null,
   "metadata": {},
   "outputs": [],
   "source": []
  },
  {
   "cell_type": "code",
   "execution_count": null,
   "metadata": {},
   "outputs": [],
   "source": []
  }
 ],
 "metadata": {
  "kernelspec": {
   "display_name": "Python 3",
   "language": "python",
   "name": "python3"
  },
  "language_info": {
   "codemirror_mode": {
    "name": "ipython",
    "version": 3
   },
   "file_extension": ".py",
   "mimetype": "text/x-python",
   "name": "python",
   "nbconvert_exporter": "python",
   "pygments_lexer": "ipython3",
   "version": "3.7.7"
  }
 },
 "nbformat": 4,
 "nbformat_minor": 4
}
