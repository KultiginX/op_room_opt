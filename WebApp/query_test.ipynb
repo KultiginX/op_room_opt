{
 "cells": [
  {
   "cell_type": "code",
   "execution_count": 50,
   "metadata": {},
   "outputs": [
    {
     "data": {
      "text/html": [
       "<div>\n",
       "<style scoped>\n",
       "    .dataframe tbody tr th:only-of-type {\n",
       "        vertical-align: middle;\n",
       "    }\n",
       "\n",
       "    .dataframe tbody tr th {\n",
       "        vertical-align: top;\n",
       "    }\n",
       "\n",
       "    .dataframe thead th {\n",
       "        text-align: right;\n",
       "    }\n",
       "</style>\n",
       "<table border=\"1\" class=\"dataframe\">\n",
       "  <thead>\n",
       "    <tr style=\"text-align: right;\">\n",
       "      <th></th>\n",
       "      <th>doctor</th>\n",
       "      <th>operation_date</th>\n",
       "      <th>department_name</th>\n",
       "      <th>operation_duration</th>\n",
       "      <th>operation_urgency</th>\n",
       "      <th>operation_room</th>\n",
       "    </tr>\n",
       "    <tr>\n",
       "      <th>id</th>\n",
       "      <th></th>\n",
       "      <th></th>\n",
       "      <th></th>\n",
       "      <th></th>\n",
       "      <th></th>\n",
       "      <th></th>\n",
       "    </tr>\n",
       "  </thead>\n",
       "  <tbody>\n",
       "    <tr>\n",
       "      <th>Department_2-f7cb7a5b-ec5b-4157-84a9-c67a634dae7a</th>\n",
       "      <td>Jack Bauer</td>\n",
       "      <td>2022-01-21 00:00:00.000000</td>\n",
       "      <td>Department_2</td>\n",
       "      <td>45</td>\n",
       "      <td>3</td>\n",
       "      <td>Room_2</td>\n",
       "    </tr>\n",
       "    <tr>\n",
       "      <th>Department_2-d31b80c6-5205-4781-a40d-3c98856906f9</th>\n",
       "      <td>John Doe</td>\n",
       "      <td>2022-01-21 00:00:00.000000</td>\n",
       "      <td>Department_2</td>\n",
       "      <td>60</td>\n",
       "      <td>3</td>\n",
       "      <td>Room_5</td>\n",
       "    </tr>\n",
       "    <tr>\n",
       "      <th>Department_2-b02bc3c2-5421-42e7-9594-072172eecd5f</th>\n",
       "      <td>Jack</td>\n",
       "      <td>2022-01-21 00:00:00.000000</td>\n",
       "      <td>Department_2</td>\n",
       "      <td>46</td>\n",
       "      <td>4</td>\n",
       "      <td>Room_1</td>\n",
       "    </tr>\n",
       "    <tr>\n",
       "      <th>Department_3-c1bcae1d-bad6-4607-8b91-196c2d935977</th>\n",
       "      <td>Kurt</td>\n",
       "      <td>2022-01-21 00:00:00.000000</td>\n",
       "      <td>Department_3</td>\n",
       "      <td>50</td>\n",
       "      <td>3</td>\n",
       "      <td>Room_1</td>\n",
       "    </tr>\n",
       "    <tr>\n",
       "      <th>Department_5-121d22d5-c97d-47d5-8948-f41431f7ab21</th>\n",
       "      <td>Kurt Bozdemir</td>\n",
       "      <td>2022-01-21 00:00:00.000000</td>\n",
       "      <td>Department_5</td>\n",
       "      <td>120</td>\n",
       "      <td>5</td>\n",
       "      <td>Room_3</td>\n",
       "    </tr>\n",
       "    <tr>\n",
       "      <th>Department_1-daa314dd-52a5-47ae-964c-0df1f10687d1</th>\n",
       "      <td>Shirvan Hashimov</td>\n",
       "      <td>2022-01-21 00:00:00.000000</td>\n",
       "      <td>Department_1</td>\n",
       "      <td>60</td>\n",
       "      <td>7</td>\n",
       "      <td>Room_1</td>\n",
       "    </tr>\n",
       "    <tr>\n",
       "      <th>Department_4-cdb011f8-5e28-48bf-9055-913b066db356</th>\n",
       "      <td>Elon Musk</td>\n",
       "      <td>2022-01-21 00:00:00.000000</td>\n",
       "      <td>Department_4</td>\n",
       "      <td>60</td>\n",
       "      <td>1</td>\n",
       "      <td>Room_3</td>\n",
       "    </tr>\n",
       "    <tr>\n",
       "      <th>Department_3-64aef08a-2707-41ac-b1ae-95833498562f</th>\n",
       "      <td>Larry Williams</td>\n",
       "      <td>2022-01-21 00:00:00.000000</td>\n",
       "      <td>Department_3</td>\n",
       "      <td>75</td>\n",
       "      <td>2</td>\n",
       "      <td>Room_4</td>\n",
       "    </tr>\n",
       "  </tbody>\n",
       "</table>\n",
       "</div>"
      ],
      "text/plain": [
       "                                                             doctor  \\\n",
       "id                                                                    \n",
       "Department_2-f7cb7a5b-ec5b-4157-84a9-c67a634dae7a        Jack Bauer   \n",
       "Department_2-d31b80c6-5205-4781-a40d-3c98856906f9          John Doe   \n",
       "Department_2-b02bc3c2-5421-42e7-9594-072172eecd5f              Jack   \n",
       "Department_3-c1bcae1d-bad6-4607-8b91-196c2d935977              Kurt   \n",
       "Department_5-121d22d5-c97d-47d5-8948-f41431f7ab21     Kurt Bozdemir   \n",
       "Department_1-daa314dd-52a5-47ae-964c-0df1f10687d1  Shirvan Hashimov   \n",
       "Department_4-cdb011f8-5e28-48bf-9055-913b066db356         Elon Musk   \n",
       "Department_3-64aef08a-2707-41ac-b1ae-95833498562f    Larry Williams   \n",
       "\n",
       "                                                               operation_date  \\\n",
       "id                                                                              \n",
       "Department_2-f7cb7a5b-ec5b-4157-84a9-c67a634dae7a  2022-01-21 00:00:00.000000   \n",
       "Department_2-d31b80c6-5205-4781-a40d-3c98856906f9  2022-01-21 00:00:00.000000   \n",
       "Department_2-b02bc3c2-5421-42e7-9594-072172eecd5f  2022-01-21 00:00:00.000000   \n",
       "Department_3-c1bcae1d-bad6-4607-8b91-196c2d935977  2022-01-21 00:00:00.000000   \n",
       "Department_5-121d22d5-c97d-47d5-8948-f41431f7ab21  2022-01-21 00:00:00.000000   \n",
       "Department_1-daa314dd-52a5-47ae-964c-0df1f10687d1  2022-01-21 00:00:00.000000   \n",
       "Department_4-cdb011f8-5e28-48bf-9055-913b066db356  2022-01-21 00:00:00.000000   \n",
       "Department_3-64aef08a-2707-41ac-b1ae-95833498562f  2022-01-21 00:00:00.000000   \n",
       "\n",
       "                                                  department_name  \\\n",
       "id                                                                  \n",
       "Department_2-f7cb7a5b-ec5b-4157-84a9-c67a634dae7a    Department_2   \n",
       "Department_2-d31b80c6-5205-4781-a40d-3c98856906f9    Department_2   \n",
       "Department_2-b02bc3c2-5421-42e7-9594-072172eecd5f    Department_2   \n",
       "Department_3-c1bcae1d-bad6-4607-8b91-196c2d935977    Department_3   \n",
       "Department_5-121d22d5-c97d-47d5-8948-f41431f7ab21    Department_5   \n",
       "Department_1-daa314dd-52a5-47ae-964c-0df1f10687d1    Department_1   \n",
       "Department_4-cdb011f8-5e28-48bf-9055-913b066db356    Department_4   \n",
       "Department_3-64aef08a-2707-41ac-b1ae-95833498562f    Department_3   \n",
       "\n",
       "                                                   operation_duration  \\\n",
       "id                                                                      \n",
       "Department_2-f7cb7a5b-ec5b-4157-84a9-c67a634dae7a                  45   \n",
       "Department_2-d31b80c6-5205-4781-a40d-3c98856906f9                  60   \n",
       "Department_2-b02bc3c2-5421-42e7-9594-072172eecd5f                  46   \n",
       "Department_3-c1bcae1d-bad6-4607-8b91-196c2d935977                  50   \n",
       "Department_5-121d22d5-c97d-47d5-8948-f41431f7ab21                 120   \n",
       "Department_1-daa314dd-52a5-47ae-964c-0df1f10687d1                  60   \n",
       "Department_4-cdb011f8-5e28-48bf-9055-913b066db356                  60   \n",
       "Department_3-64aef08a-2707-41ac-b1ae-95833498562f                  75   \n",
       "\n",
       "                                                   operation_urgency  \\\n",
       "id                                                                     \n",
       "Department_2-f7cb7a5b-ec5b-4157-84a9-c67a634dae7a                  3   \n",
       "Department_2-d31b80c6-5205-4781-a40d-3c98856906f9                  3   \n",
       "Department_2-b02bc3c2-5421-42e7-9594-072172eecd5f                  4   \n",
       "Department_3-c1bcae1d-bad6-4607-8b91-196c2d935977                  3   \n",
       "Department_5-121d22d5-c97d-47d5-8948-f41431f7ab21                  5   \n",
       "Department_1-daa314dd-52a5-47ae-964c-0df1f10687d1                  7   \n",
       "Department_4-cdb011f8-5e28-48bf-9055-913b066db356                  1   \n",
       "Department_3-64aef08a-2707-41ac-b1ae-95833498562f                  2   \n",
       "\n",
       "                                                  operation_room  \n",
       "id                                                                \n",
       "Department_2-f7cb7a5b-ec5b-4157-84a9-c67a634dae7a         Room_2  \n",
       "Department_2-d31b80c6-5205-4781-a40d-3c98856906f9         Room_5  \n",
       "Department_2-b02bc3c2-5421-42e7-9594-072172eecd5f         Room_1  \n",
       "Department_3-c1bcae1d-bad6-4607-8b91-196c2d935977         Room_1  \n",
       "Department_5-121d22d5-c97d-47d5-8948-f41431f7ab21         Room_3  \n",
       "Department_1-daa314dd-52a5-47ae-964c-0df1f10687d1         Room_1  \n",
       "Department_4-cdb011f8-5e28-48bf-9055-913b066db356         Room_3  \n",
       "Department_3-64aef08a-2707-41ac-b1ae-95833498562f         Room_4  "
      ]
     },
     "execution_count": 50,
     "metadata": {},
     "output_type": "execute_result"
    }
   ],
   "source": [
    "date='''\"2022-01-21 00:00:00.000000\"'''\n",
    "\n",
    "import pyomo.environ as pyo #install pyomo\n",
    "# conda install -c conda-forge pyomo\n",
    "# install glpk \n",
    "# conda install -c conda-forge glpk\n",
    "import pandas as pd\n",
    "\n",
    "import sqlite3\n",
    "\n",
    "con = sqlite3.connect('/Users/kultiginbozdemir/Documents/GitHub/op_room_opt/WebApp/test2.db') # change the path\n",
    "\n",
    "query = ''.join(['select * FROM user__entries WHERE operation_date==',str(date)])# change name of the table.  save them with date in db. \n",
    "cur=con.cursor()\n",
    "cur.execute(query)\n",
    "result=cur.fetchall()\n",
    "\n",
    "df=pd.DataFrame(result, columns=['id','doctor','operation_date','department_name','operation_duration','operation_urgency','operation_room'])\n",
    "\n",
    "df.set_index('id')"
   ]
  },
  {
   "cell_type": "code",
   "execution_count": 8,
   "metadata": {},
   "outputs": [
    {
     "data": {
      "text/plain": [
       "[('Room_1-a0a7fd82-827e-45a3-9027-14f8dff0bea1',\n",
       "  'Room_1',\n",
       "  200,\n",
       "  '2022-01-21 00:00:00.000000'),\n",
       " ('Room_3-e2e86bba-ae27-4c5f-9a64-f939e07ac2d3',\n",
       "  'Room_3',\n",
       "  200,\n",
       "  '2022-01-21 00:00:00.000000'),\n",
       " ('Room_2-60c676be-4805-49ad-8b5a-5ab395976f90',\n",
       "  'Room_2',\n",
       "  60,\n",
       "  '2022-01-21 00:00:00.000000'),\n",
       " ('Room_4-9e915ee6-2cbd-4384-857b-e999132a06b8',\n",
       "  'Room_4',\n",
       "  95,\n",
       "  '2022-01-21 00:00:00.000000'),\n",
       " ('Room_5-d8a630e4-0da4-4cc8-a860-8405252a824d',\n",
       "  'Room_5',\n",
       "  120,\n",
       "  '2022-01-21 00:00:00.000000')]"
      ]
     },
     "execution_count": 8,
     "metadata": {},
     "output_type": "execute_result"
    }
   ],
   "source": [
    "query = ''.join(['select * FROM operation_rooms__info WHERE date==',str(date)])# change name of the table.  save them with date in db. \n",
    "cur=cnx.cursor()\n",
    "cur.execute(query)\n",
    "result=cur.fetchall()\n",
    "result\n"
   ]
  },
  {
   "cell_type": "code",
   "execution_count": 12,
   "metadata": {},
   "outputs": [
    {
     "data": {
      "text/plain": [
       "['Room_1', 'Room_3', 'Room_2', 'Room_4', 'Room_5']"
      ]
     },
     "execution_count": 12,
     "metadata": {},
     "output_type": "execute_result"
    }
   ],
   "source": [
    "op_room_name=[i[1] for i in result]\n",
    "op_room_name"
   ]
  },
  {
   "cell_type": "code",
   "execution_count": 11,
   "metadata": {},
   "outputs": [
    {
     "data": {
      "text/plain": [
       "[200, 200, 60, 95, 120]"
      ]
     },
     "execution_count": 11,
     "metadata": {},
     "output_type": "execute_result"
    }
   ],
   "source": [
    "op_room_cap=[i[2] for i in result]\n",
    "op_room_cap"
   ]
  },
  {
   "cell_type": "code",
   "execution_count": 14,
   "metadata": {},
   "outputs": [],
   "source": [
    "query = ''.join(['select * FROM department__info WHERE date==',str(date)])# change name of the table.  save them with date in db. \n",
    "cur=cnx.cursor()\n",
    "cur.execute(query)\n",
    "result=cur.fetchall()\n",
    "result\n",
    "dep_name=[i[1] for i in result]\n",
    "dep_cap=[i[2] for i in result]"
   ]
  },
  {
   "cell_type": "code",
   "execution_count": 15,
   "metadata": {},
   "outputs": [
    {
     "data": {
      "text/plain": [
       "['Department_1',\n",
       " 'Department_2',\n",
       " 'Department_3',\n",
       " 'Department_4',\n",
       " 'Department_5']"
      ]
     },
     "execution_count": 15,
     "metadata": {},
     "output_type": "execute_result"
    }
   ],
   "source": [
    "dep_name"
   ]
  },
  {
   "cell_type": "code",
   "execution_count": 16,
   "metadata": {},
   "outputs": [
    {
     "data": {
      "text/plain": [
       "['100', '200', '200', '200', '170']"
      ]
     },
     "execution_count": 16,
     "metadata": {},
     "output_type": "execute_result"
    }
   ],
   "source": [
    "dep_cap"
   ]
  },
  {
   "cell_type": "code",
   "execution_count": null,
   "metadata": {},
   "outputs": [],
   "source": []
  }
 ],
 "metadata": {
  "kernelspec": {
   "display_name": "Python 3",
   "language": "python",
   "name": "python3"
  },
  "language_info": {
   "codemirror_mode": {
    "name": "ipython",
    "version": 3
   },
   "file_extension": ".py",
   "mimetype": "text/x-python",
   "name": "python",
   "nbconvert_exporter": "python",
   "pygments_lexer": "ipython3",
   "version": "3.7.7"
  }
 },
 "nbformat": 4,
 "nbformat_minor": 4
}
