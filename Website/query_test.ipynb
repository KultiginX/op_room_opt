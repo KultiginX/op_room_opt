{
 "cells": [
  {
   "cell_type": "code",
   "execution_count": 14,
   "metadata": {},
   "outputs": [
    {
     "data": {
      "text/html": [
       "<div>\n",
       "<style scoped>\n",
       "    .dataframe tbody tr th:only-of-type {\n",
       "        vertical-align: middle;\n",
       "    }\n",
       "\n",
       "    .dataframe tbody tr th {\n",
       "        vertical-align: top;\n",
       "    }\n",
       "\n",
       "    .dataframe thead th {\n",
       "        text-align: right;\n",
       "    }\n",
       "</style>\n",
       "<table border=\"1\" class=\"dataframe\">\n",
       "  <thead>\n",
       "    <tr style=\"text-align: right;\">\n",
       "      <th></th>\n",
       "      <th>doctor</th>\n",
       "      <th>operation_date</th>\n",
       "      <th>department_name</th>\n",
       "      <th>operation_duration</th>\n",
       "      <th>operation_urgency</th>\n",
       "      <th>operation_room</th>\n",
       "    </tr>\n",
       "    <tr>\n",
       "      <th>id</th>\n",
       "      <th></th>\n",
       "      <th></th>\n",
       "      <th></th>\n",
       "      <th></th>\n",
       "      <th></th>\n",
       "      <th></th>\n",
       "    </tr>\n",
       "  </thead>\n",
       "  <tbody>\n",
       "    <tr>\n",
       "      <th>Department_1-923716c6-cf97-4856-a996-4bea22397914</th>\n",
       "      <td>Jack Bauer</td>\n",
       "      <td>2022-02-19 00:00:00.000000</td>\n",
       "      <td>Department_1</td>\n",
       "      <td>20</td>\n",
       "      <td>3</td>\n",
       "      <td>Room_5</td>\n",
       "    </tr>\n",
       "    <tr>\n",
       "      <th>Department_1-0704df1f-acac-4ab4-ac41-9d26bc326902</th>\n",
       "      <td>Kurt Boz</td>\n",
       "      <td>2022-02-19 00:00:00.000000</td>\n",
       "      <td>Department_1</td>\n",
       "      <td>45</td>\n",
       "      <td>8</td>\n",
       "      <td>Room_1</td>\n",
       "    </tr>\n",
       "    <tr>\n",
       "      <th>Department_2-24a7b9a1-d766-4045-b180-7ff3f031cd02</th>\n",
       "      <td>Kurt</td>\n",
       "      <td>2022-02-19 00:00:00.000000</td>\n",
       "      <td>Department_2</td>\n",
       "      <td>23</td>\n",
       "      <td>1</td>\n",
       "      <td>Room_2</td>\n",
       "    </tr>\n",
       "    <tr>\n",
       "      <th>Department_5-22054592-a406-49bd-8ec0-1087784b0013</th>\n",
       "      <td>Norbert</td>\n",
       "      <td>2022-02-19 00:00:00.000000</td>\n",
       "      <td>Department_5</td>\n",
       "      <td>22</td>\n",
       "      <td>10</td>\n",
       "      <td>Room_2</td>\n",
       "    </tr>\n",
       "    <tr>\n",
       "      <th>Department_4-335326d6-cc07-44dd-bd65-311967a10167</th>\n",
       "      <td>Agatha</td>\n",
       "      <td>2022-02-19 00:00:00.000000</td>\n",
       "      <td>Department_4</td>\n",
       "      <td>44</td>\n",
       "      <td>6</td>\n",
       "      <td>Room_2</td>\n",
       "    </tr>\n",
       "    <tr>\n",
       "      <th>Department_3-d2365ebd-e4ec-4a26-98eb-c13e893ac6e5</th>\n",
       "      <td>Kurt</td>\n",
       "      <td>2022-02-19 00:00:00.000000</td>\n",
       "      <td>Department_3</td>\n",
       "      <td>12</td>\n",
       "      <td>10</td>\n",
       "      <td>Room_1</td>\n",
       "    </tr>\n",
       "  </tbody>\n",
       "</table>\n",
       "</div>"
      ],
      "text/plain": [
       "                                                       doctor  \\\n",
       "id                                                              \n",
       "Department_1-923716c6-cf97-4856-a996-4bea22397914  Jack Bauer   \n",
       "Department_1-0704df1f-acac-4ab4-ac41-9d26bc326902    Kurt Boz   \n",
       "Department_2-24a7b9a1-d766-4045-b180-7ff3f031cd02        Kurt   \n",
       "Department_5-22054592-a406-49bd-8ec0-1087784b0013     Norbert   \n",
       "Department_4-335326d6-cc07-44dd-bd65-311967a10167      Agatha   \n",
       "Department_3-d2365ebd-e4ec-4a26-98eb-c13e893ac6e5        Kurt   \n",
       "\n",
       "                                                               operation_date  \\\n",
       "id                                                                              \n",
       "Department_1-923716c6-cf97-4856-a996-4bea22397914  2022-02-19 00:00:00.000000   \n",
       "Department_1-0704df1f-acac-4ab4-ac41-9d26bc326902  2022-02-19 00:00:00.000000   \n",
       "Department_2-24a7b9a1-d766-4045-b180-7ff3f031cd02  2022-02-19 00:00:00.000000   \n",
       "Department_5-22054592-a406-49bd-8ec0-1087784b0013  2022-02-19 00:00:00.000000   \n",
       "Department_4-335326d6-cc07-44dd-bd65-311967a10167  2022-02-19 00:00:00.000000   \n",
       "Department_3-d2365ebd-e4ec-4a26-98eb-c13e893ac6e5  2022-02-19 00:00:00.000000   \n",
       "\n",
       "                                                  department_name  \\\n",
       "id                                                                  \n",
       "Department_1-923716c6-cf97-4856-a996-4bea22397914    Department_1   \n",
       "Department_1-0704df1f-acac-4ab4-ac41-9d26bc326902    Department_1   \n",
       "Department_2-24a7b9a1-d766-4045-b180-7ff3f031cd02    Department_2   \n",
       "Department_5-22054592-a406-49bd-8ec0-1087784b0013    Department_5   \n",
       "Department_4-335326d6-cc07-44dd-bd65-311967a10167    Department_4   \n",
       "Department_3-d2365ebd-e4ec-4a26-98eb-c13e893ac6e5    Department_3   \n",
       "\n",
       "                                                   operation_duration  \\\n",
       "id                                                                      \n",
       "Department_1-923716c6-cf97-4856-a996-4bea22397914                  20   \n",
       "Department_1-0704df1f-acac-4ab4-ac41-9d26bc326902                  45   \n",
       "Department_2-24a7b9a1-d766-4045-b180-7ff3f031cd02                  23   \n",
       "Department_5-22054592-a406-49bd-8ec0-1087784b0013                  22   \n",
       "Department_4-335326d6-cc07-44dd-bd65-311967a10167                  44   \n",
       "Department_3-d2365ebd-e4ec-4a26-98eb-c13e893ac6e5                  12   \n",
       "\n",
       "                                                   operation_urgency  \\\n",
       "id                                                                     \n",
       "Department_1-923716c6-cf97-4856-a996-4bea22397914                  3   \n",
       "Department_1-0704df1f-acac-4ab4-ac41-9d26bc326902                  8   \n",
       "Department_2-24a7b9a1-d766-4045-b180-7ff3f031cd02                  1   \n",
       "Department_5-22054592-a406-49bd-8ec0-1087784b0013                 10   \n",
       "Department_4-335326d6-cc07-44dd-bd65-311967a10167                  6   \n",
       "Department_3-d2365ebd-e4ec-4a26-98eb-c13e893ac6e5                 10   \n",
       "\n",
       "                                                  operation_room  \n",
       "id                                                                \n",
       "Department_1-923716c6-cf97-4856-a996-4bea22397914         Room_5  \n",
       "Department_1-0704df1f-acac-4ab4-ac41-9d26bc326902         Room_1  \n",
       "Department_2-24a7b9a1-d766-4045-b180-7ff3f031cd02         Room_2  \n",
       "Department_5-22054592-a406-49bd-8ec0-1087784b0013         Room_2  \n",
       "Department_4-335326d6-cc07-44dd-bd65-311967a10167         Room_2  \n",
       "Department_3-d2365ebd-e4ec-4a26-98eb-c13e893ac6e5         Room_1  "
      ]
     },
     "execution_count": 14,
     "metadata": {},
     "output_type": "execute_result"
    }
   ],
   "source": [
    "date='''\"2022-02-19 00:00:00.000000\"'''\n",
    "\n",
    "import pyomo.environ as pyo #install pyomo\n",
    "# conda install -c conda-forge pyomo\n",
    "# install glpk \n",
    "# conda install -c conda-forge glpk\n",
    "import pandas as pd\n",
    "\n",
    "import sqlite3\n",
    "\n",
    "con = sqlite3.connect('/Users/kultiginbozdemir/Documents/GitHub/op_room_opt/Website/test.db') # change the path\n",
    "\n",
    "\n",
    "query = ''.join(['select * FROM user_entries WHERE operation_date==',str(date)])# change name of the table.  save them with date in db. \n",
    "cur=con.cursor()\n",
    "cur.execute(query)\n",
    "result=cur.fetchall()\n",
    "\n",
    "df=pd.DataFrame(result, columns=['id','doctor','operation_date','department_name','operation_duration','operation_urgency','operation_room'])\n",
    "\n",
    "df.set_index('id')"
   ]
  },
  {
   "cell_type": "code",
   "execution_count": 5,
   "metadata": {},
   "outputs": [
    {
     "data": {
      "text/plain": [
       "[('Room_1-0feddaef-626b-4c51-b53f-21211f555e6e',\n",
       "  'Room_1',\n",
       "  60,\n",
       "  '2022-02-19 00:00:00.000000'),\n",
       " ('Room_2-db4ada97-d0a7-42f5-a6f6-6e4408531847',\n",
       "  'Room_2',\n",
       "  130,\n",
       "  '2022-02-19 00:00:00.000000'),\n",
       " ('Room_3-0636809c-ca2c-436b-9f28-c6e8ba18eab0',\n",
       "  'Room_3',\n",
       "  95,\n",
       "  '2022-02-19 00:00:00.000000'),\n",
       " ('Room_4-2981aba7-f370-4e1e-98d8-7a233c85add4',\n",
       "  'Room_4',\n",
       "  100,\n",
       "  '2022-02-19 00:00:00.000000'),\n",
       " ('Room_5-8b88d4b3-dd58-4fae-9e99-e81bf0a5abc3',\n",
       "  'Room_5',\n",
       "  75,\n",
       "  '2022-02-19 00:00:00.000000')]"
      ]
     },
     "execution_count": 5,
     "metadata": {},
     "output_type": "execute_result"
    }
   ],
   "source": [
    "query = ''.join(['select * FROM operation_rooms_info WHERE date==',str(date)])# change name of the table.  save them with date in db. \n",
    "cur=con.cursor()\n",
    "cur.execute(query)\n",
    "result=cur.fetchall()\n",
    "result\n"
   ]
  },
  {
   "cell_type": "code",
   "execution_count": 6,
   "metadata": {},
   "outputs": [
    {
     "data": {
      "text/plain": [
       "['Room_1', 'Room_2', 'Room_3', 'Room_4', 'Room_5']"
      ]
     },
     "execution_count": 6,
     "metadata": {},
     "output_type": "execute_result"
    }
   ],
   "source": [
    "op_room_name=[i[1] for i in result]\n",
    "op_room_name"
   ]
  },
  {
   "cell_type": "code",
   "execution_count": 7,
   "metadata": {},
   "outputs": [
    {
     "data": {
      "text/plain": [
       "[60, 130, 95, 100, 75]"
      ]
     },
     "execution_count": 7,
     "metadata": {},
     "output_type": "execute_result"
    }
   ],
   "source": [
    "op_room_cap=[i[2] for i in result]\n",
    "op_room_cap"
   ]
  },
  {
   "cell_type": "code",
   "execution_count": 9,
   "metadata": {},
   "outputs": [],
   "source": [
    "query = ''.join(['select * FROM department_info WHERE date==',str(date)])# change name of the table.  save them with date in db. \n",
    "cur=con.cursor()\n",
    "cur.execute(query)\n",
    "result=cur.fetchall()\n",
    "result\n",
    "dep_name=[i[1] for i in result]\n",
    "dep_cap=[i[2] for i in result]"
   ]
  },
  {
   "cell_type": "code",
   "execution_count": 10,
   "metadata": {},
   "outputs": [
    {
     "data": {
      "text/plain": [
       "['Department_1',\n",
       " 'Department_2',\n",
       " 'Department_3',\n",
       " 'Department_4',\n",
       " 'Department_5']"
      ]
     },
     "execution_count": 10,
     "metadata": {},
     "output_type": "execute_result"
    }
   ],
   "source": [
    "dep_name"
   ]
  },
  {
   "cell_type": "code",
   "execution_count": 11,
   "metadata": {},
   "outputs": [
    {
     "data": {
      "text/plain": [
       "[120, 150, 80, 60, 75]"
      ]
     },
     "execution_count": 11,
     "metadata": {},
     "output_type": "execute_result"
    }
   ],
   "source": [
    "dep_cap"
   ]
  },
  {
   "cell_type": "code",
   "execution_count": null,
   "metadata": {},
   "outputs": [],
   "source": []
  }
 ],
 "metadata": {
  "kernelspec": {
   "display_name": "Python 3",
   "language": "python",
   "name": "python3"
  },
  "language_info": {
   "codemirror_mode": {
    "name": "ipython",
    "version": 3
   },
   "file_extension": ".py",
   "mimetype": "text/x-python",
   "name": "python",
   "nbconvert_exporter": "python",
   "pygments_lexer": "ipython3",
   "version": "3.7.7"
  }
 },
 "nbformat": 4,
 "nbformat_minor": 4
}
